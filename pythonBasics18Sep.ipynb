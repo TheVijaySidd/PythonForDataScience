{
  "nbformat": 4,
  "nbformat_minor": 0,
  "metadata": {
    "colab": {
      "provenance": [],
      "authorship_tag": "ABX9TyNxjgBybdpBOL6dLtqNSbAZ",
      "include_colab_link": true
    },
    "kernelspec": {
      "name": "python3",
      "display_name": "Python 3"
    },
    "language_info": {
      "name": "python"
    }
  },
  "cells": [
    {
      "cell_type": "markdown",
      "metadata": {
        "id": "view-in-github",
        "colab_type": "text"
      },
      "source": [
        "<a href=\"https://colab.research.google.com/github/TheVijaySidd/PythonForDataScience/blob/main/pythonBasics18Sep.ipynb\" target=\"_parent\"><img src=\"https://colab.research.google.com/assets/colab-badge.svg\" alt=\"Open In Colab\"/></a>"
      ]
    },
    {
      "cell_type": "code",
      "execution_count": null,
      "metadata": {
        "colab": {
          "base_uri": "https://localhost:8080/"
        },
        "id": "gt23OUKVEeZ_",
        "outputId": "29fc04be-41bc-4986-af1d-9ef77c018fff"
      },
      "outputs": [
        {
          "output_type": "stream",
          "name": "stdout",
          "text": [
            "Hey Vijay, Welcome back\n"
          ]
        }
      ],
      "source": [
        "print('Hey Vijay, Welcome back')"
      ]
    },
    {
      "cell_type": "code",
      "source": [
        "print('Happy Birthday ')"
      ],
      "metadata": {
        "colab": {
          "base_uri": "https://localhost:8080/"
        },
        "id": "wWYcqlFLGOSs",
        "outputId": "2ddc46f2-1978-4b9e-bd84-f54ea4b4f353"
      },
      "execution_count": null,
      "outputs": [
        {
          "output_type": "stream",
          "name": "stdout",
          "text": [
            "Happy Birthday Dear Modi Ji\n"
          ]
        }
      ]
    },
    {
      "cell_type": "code",
      "source": [
        "print('''This is to verify multiple line code works\n",
        "in python ''')"
      ],
      "metadata": {
        "colab": {
          "base_uri": "https://localhost:8080/"
        },
        "id": "NBTx3yShOaTa",
        "outputId": "8fefdbff-65d4-418d-f2f2-dc196fe6fee0"
      },
      "execution_count": null,
      "outputs": [
        {
          "output_type": "stream",
          "name": "stdout",
          "text": [
            "This is to verify multiple line code works\n",
            "in python \n"
          ]
        }
      ]
    },
    {
      "cell_type": "code",
      "source": [
        "help()\n"
      ],
      "metadata": {
        "colab": {
          "base_uri": "https://localhost:8080/"
        },
        "id": "O1lCzYr_R_0P",
        "outputId": "ca36267c-9081-4199-f55f-22850747fbef"
      },
      "execution_count": null,
      "outputs": [
        {
          "output_type": "stream",
          "name": "stdout",
          "text": [
            "\n",
            "Welcome to Python 3.10's help utility!\n",
            "\n",
            "If this is your first time using Python, you should definitely check out\n",
            "the tutorial on the internet at https://docs.python.org/3.10/tutorial/.\n",
            "\n",
            "Enter the name of any module, keyword, or topic to get help on writing\n",
            "Python programs and using Python modules.  To quit this help utility and\n",
            "return to the interpreter, just type \"quit\".\n",
            "\n",
            "To get a list of available modules, keywords, symbols, or topics, type\n",
            "\"modules\", \"keywords\", \"symbols\", or \"topics\".  Each module also comes\n",
            "with a one-line summary of what it does; to list the modules whose name\n",
            "or summary contain a given string such as \"spam\", type \"modules spam\".\n",
            "\n",
            "help> keywords\n",
            "\n",
            "Here is a list of the Python keywords.  Enter any keyword to get more help.\n",
            "\n",
            "False               class               from                or\n",
            "None                continue            global              pass\n",
            "True                def                 if                  raise\n",
            "and                 del                 import              return\n",
            "as                  elif                in                  try\n",
            "assert              else                is                  while\n",
            "async               except              lambda              with\n",
            "await               finally             nonlocal            yield\n",
            "break               for                 not                 \n",
            "\n",
            "\n",
            "You are now leaving help and returning to the Python interpreter.\n",
            "If you want to ask for help on a particular object directly from the\n",
            "interpreter, you can type \"help(object)\".  Executing \"help('string')\"\n",
            "has the same effect as typing a particular string at the help> prompt.\n"
          ]
        }
      ]
    },
    {
      "cell_type": "markdown",
      "source": [
        "This part is to check how the text block is displayed"
      ],
      "metadata": {
        "id": "dVX-h_QEx13S"
      }
    },
    {
      "cell_type": "code",
      "source": [
        "name= input('Enter your name')\n",
        "print('Hi ' +name)"
      ],
      "metadata": {
        "colab": {
          "base_uri": "https://localhost:8080/"
        },
        "id": "lIKuHEYLx8tJ",
        "outputId": "9339ad93-d295-4867-b5f6-142051164f5e"
      },
      "execution_count": null,
      "outputs": [
        {
          "output_type": "stream",
          "name": "stdout",
          "text": [
            "Enter your nameTreasa\n",
            "Hi Treasa\n"
          ]
        }
      ]
    },
    {
      "cell_type": "code",
      "source": [
        "print(True==1)\n",
        "print(\"1\" == 1)\n",
        "x = 55 / 11\n",
        "print(x)"
      ],
      "metadata": {
        "colab": {
          "base_uri": "https://localhost:8080/"
        },
        "id": "l67zbzZFWLtW",
        "outputId": "866c972a-1e4d-4b4a-8e19-669ce7d42e33"
      },
      "execution_count": null,
      "outputs": [
        {
          "output_type": "stream",
          "name": "stdout",
          "text": [
            "True\n",
            "False\n",
            "5.0\n"
          ]
        }
      ]
    },
    {
      "cell_type": "code",
      "source": [
        "x=0\n",
        "if x > 2:\n",
        "    x = x*2\n",
        "if x > 4:\n",
        "    x = 0\n",
        "print(x)"
      ],
      "metadata": {
        "id": "XJagMjv7hpkt",
        "colab": {
          "base_uri": "https://localhost:8080/"
        },
        "outputId": "623632cb-b658-4736-d196-d435494aaa1f"
      },
      "execution_count": null,
      "outputs": [
        {
          "output_type": "stream",
          "name": "stdout",
          "text": [
            "0\n"
          ]
        }
      ]
    },
    {
      "cell_type": "code",
      "source": [
        "a = 1\n",
        "b = 0\n",
        "c = 1\n",
        "if (a and b):\n",
        "    print(\"Scaler is awesome\")\n",
        "elif (a and c):\n",
        "    print(\"ML is fun\")\n",
        "if (a and b and c):\n",
        "    print(\"Python is amazing\")\n",
        "if (a or b or c):\n",
        "    print(\"I love DS\")"
      ],
      "metadata": {
        "colab": {
          "base_uri": "https://localhost:8080/"
        },
        "id": "IOgVZI7g7bRL",
        "outputId": "847432e8-d4ae-4679-88a5-afc48f563fb0"
      },
      "execution_count": null,
      "outputs": [
        {
          "output_type": "stream",
          "name": "stdout",
          "text": [
            "ML is fun\n",
            "I love DS\n"
          ]
        }
      ]
    },
    {
      "cell_type": "code",
      "source": [
        "a = 4\n",
        "b = -5\n",
        "if a > 0:\n",
        "    if b < 0:\n",
        "        a = a - 2\n",
        "    elif a > 5:\n",
        "        a = a - 4\n",
        "    else:\n",
        "        a = a + 3\n",
        "else:\n",
        "    b = b + 2\n",
        "\n",
        "print(a)"
      ],
      "metadata": {
        "colab": {
          "base_uri": "https://localhost:8080/"
        },
        "id": "2jQwcz0V7kGB",
        "outputId": "db0c02be-19bd-4c00-f753-e54b2dcf4708"
      },
      "execution_count": null,
      "outputs": [
        {
          "output_type": "stream",
          "name": "stdout",
          "text": [
            "2\n"
          ]
        }
      ]
    },
    {
      "cell_type": "code",
      "source": [
        "x = 2\n",
        "if x==2:\n",
        "    x = 3\n",
        "x = 4\n",
        "else:\n",
        "    x = 5\n",
        "print(x)"
      ],
      "metadata": {
        "id": "AlQTNPcjkiTy",
        "outputId": "8202aa40-ccb3-4e2f-b740-645987495f50",
        "colab": {
          "base_uri": "https://localhost:8080/",
          "height": 140
        }
      },
      "execution_count": null,
      "outputs": [
        {
          "output_type": "error",
          "ename": "SyntaxError",
          "evalue": "ignored",
          "traceback": [
            "\u001b[0;36m  File \u001b[0;32m\"<ipython-input-11-f39cd7db9a9c>\"\u001b[0;36m, line \u001b[0;32m5\u001b[0m\n\u001b[0;31m    else:\u001b[0m\n\u001b[0m    ^\u001b[0m\n\u001b[0;31mSyntaxError\u001b[0m\u001b[0;31m:\u001b[0m invalid syntax\n"
          ]
        }
      ]
    },
    {
      "cell_type": "code",
      "source": [
        "str1=str(input())\n",
        "str2=str(input())\n",
        "str3=str1+\"$\"+str2\n",
        "print(str3)"
      ],
      "metadata": {
        "colab": {
          "base_uri": "https://localhost:8080/"
        },
        "id": "zclhoq2kV1cR",
        "outputId": "0df5769f-3e62-4ebf-beed-6dc3a0f87b92"
      },
      "execution_count": null,
      "outputs": [
        {
          "output_type": "stream",
          "name": "stdout",
          "text": [
            "Hello\n",
            "World\n",
            "Hello$World\n"
          ]
        }
      ]
    },
    {
      "cell_type": "code",
      "source": [
        "print(type(int(float(input()))))"
      ],
      "metadata": {
        "colab": {
          "base_uri": "https://localhost:8080/"
        },
        "id": "r8LQeEtVXM76",
        "outputId": "9fbc6894-8fbd-4bce-d263-9095d79310d4"
      },
      "execution_count": null,
      "outputs": [
        {
          "output_type": "stream",
          "name": "stdout",
          "text": [
            "2.2\n",
            "<class 'int'>\n"
          ]
        }
      ]
    },
    {
      "cell_type": "code",
      "source": [
        "print(bool(False-1))\n",
        "print(bool(True-3))\n",
        "print(True+3)\n",
        "print(-50%7)"
      ],
      "metadata": {
        "colab": {
          "base_uri": "https://localhost:8080/"
        },
        "id": "QMfbtri3ZX-l",
        "outputId": "6ab0d8f4-965d-4a45-8862-ea464ead1bfd"
      },
      "execution_count": null,
      "outputs": [
        {
          "output_type": "stream",
          "name": "stdout",
          "text": [
            "True\n",
            "True\n",
            "4\n",
            "6\n"
          ]
        }
      ]
    },
    {
      "cell_type": "code",
      "source": [
        "in1=int(input('Enter the input number greate than 9'))\n",
        "if in1"
      ],
      "metadata": {
        "id": "UjLZd-spjpp-"
      },
      "execution_count": null,
      "outputs": []
    },
    {
      "cell_type": "code",
      "source": [
        "import numpy as np\n",
        "x=np.random.randint(50,size=(3,4))\n",
        "print(x.ndim)"
      ],
      "metadata": {
        "colab": {
          "base_uri": "https://localhost:8080/"
        },
        "id": "toWMZ-peB4KS",
        "outputId": "36c851f1-e721-41d0-eaae-b297a4595fdc"
      },
      "execution_count": null,
      "outputs": [
        {
          "output_type": "stream",
          "name": "stdout",
          "text": [
            "2\n"
          ]
        }
      ]
    },
    {
      "cell_type": "code",
      "source": [],
      "metadata": {
        "id": "zJyWlIJYDM90"
      },
      "execution_count": null,
      "outputs": []
    },
    {
      "cell_type": "code",
      "source": [
        "x= np.arange(1,5).reshape(2,2)\n",
        "y=np.arange(11,15).reshape(2,2)\n",
        "t=np.hstack((x,y))\n",
        "print(t)"
      ],
      "metadata": {
        "colab": {
          "base_uri": "https://localhost:8080/"
        },
        "id": "0zR9z-9oEbli",
        "outputId": "063d9c04-e69c-4a74-d30c-99b90048bcc5"
      },
      "execution_count": null,
      "outputs": [
        {
          "output_type": "stream",
          "name": "stdout",
          "text": [
            "[[ 1  2 11 12]\n",
            " [ 3  4 13 14]]\n"
          ]
        }
      ]
    },
    {
      "cell_type": "code",
      "source": [
        "##Take an integer input from the user and print alternate numbers from from 1 to input.\n",
        "##Input will be a positive number > 1. INPUT - 7\n",
        "#OUTPUT - 1 3 5 7 INPUT - 4\n",
        "#OUTPUT - 1 3"
      ],
      "metadata": {
        "id": "37TdKnVzqcSB"
      },
      "execution_count": null,
      "outputs": []
    },
    {
      "cell_type": "code",
      "source": [
        "num=int(input())\n",
        "start=1\n",
        "while(start<=num):\n",
        "  print(start)\n",
        "  start=start+2\n",
        "\n"
      ],
      "metadata": {
        "colab": {
          "base_uri": "https://localhost:8080/"
        },
        "id": "T9FOCYSSqUHf",
        "outputId": "a7884352-cb69-49c3-b023-628554489be6"
      },
      "execution_count": null,
      "outputs": [
        {
          "output_type": "stream",
          "name": "stdout",
          "text": [
            "7\n",
            "1\n",
            "3\n",
            "5\n",
            "7\n"
          ]
        }
      ]
    },
    {
      "cell_type": "code",
      "source": [
        "#Take an input from the user and print alternate numbers from from 1 to input.\n",
        "#If number is > 1 -> Print as required.\n",
        "#Else print \"Number is smaller than 1!\" INPUT - 7\n",
        "#OUTPUT - 1 3 5 7 INPUT - -5\n",
        "#OUTPUT - Number is smaller than 1!"
      ],
      "metadata": {
        "id": "F8l-zflwsR5e"
      },
      "execution_count": null,
      "outputs": []
    },
    {
      "cell_type": "code",
      "source": [
        "num=int(input())\n",
        "start=1\n",
        "while(start<=num):\n",
        "  if(num>1):\n",
        "    print(start)\n",
        "    start=start+2\n",
        "  else:\n",
        "    print(num +\"is smaller than 1\")"
      ],
      "metadata": {
        "colab": {
          "base_uri": "https://localhost:8080/"
        },
        "id": "A9qTZU9wsZ8j",
        "outputId": "6d47443d-a915-4587-87c1-fbaeba41df01"
      },
      "execution_count": null,
      "outputs": [
        {
          "name": "stdout",
          "output_type": "stream",
          "text": [
            "-5\n"
          ]
        }
      ]
    },
    {
      "cell_type": "code",
      "source": [],
      "metadata": {
        "id": "IJjH1q_gtSiz"
      },
      "execution_count": null,
      "outputs": []
    },
    {
      "cell_type": "code",
      "source": [
        "c = 0\n",
        "while c<=10:\n",
        "    print(c)\n",
        "    if c%2:\n",
        "       c-=1\n",
        "    else:\n",
        "       c+=1\n"
      ],
      "metadata": {
        "id": "ca9Mn_H8tRqZ"
      },
      "execution_count": null,
      "outputs": []
    },
    {
      "cell_type": "code",
      "source": [
        "n=int(input())\n",
        "i=1\n",
        "mul=0\n",
        "while(n>mul):\n",
        "    mul=4*i\n",
        "    if(mul<=n):\n",
        "      print(mul, end=' ')\n",
        "    i+=1"
      ],
      "metadata": {
        "colab": {
          "base_uri": "https://localhost:8080/"
        },
        "id": "sxt6jtX5RJWx",
        "outputId": "74c2b8ad-417e-4265-98f2-62c46bf30570"
      },
      "execution_count": null,
      "outputs": [
        {
          "output_type": "stream",
          "name": "stdout",
          "text": [
            "9\n",
            "4 8 "
          ]
        }
      ]
    },
    {
      "cell_type": "code",
      "source": [
        "n=int(input())\n",
        "d=2\n",
        "while d<=n:\n",
        "  print(d,end=' ')\n",
        "  d+=2\n",
        "\n"
      ],
      "metadata": {
        "colab": {
          "base_uri": "https://localhost:8080/"
        },
        "id": "PyFhVLS7YemY",
        "outputId": "62df9102-ee9b-4143-ceec-3385a54d08ec"
      },
      "execution_count": null,
      "outputs": [
        {
          "output_type": "stream",
          "name": "stdout",
          "text": [
            "15\n",
            "2 4 6 8 10 12 14 "
          ]
        }
      ]
    },
    {
      "cell_type": "code",
      "source": [
        "from re import X\n",
        "n=int(input())\n",
        "x=1\n",
        "while x<=n:\n",
        "  X=n%2\n",
        "  if d==0:\n",
        "    print(n,end=' ')\n",
        "  d +=1"
      ],
      "metadata": {
        "id": "WngznaSjVLTd"
      },
      "execution_count": null,
      "outputs": []
    },
    {
      "cell_type": "code",
      "source": [
        "a=int(input())\n",
        "b=int(input())\n",
        "p=a**b\n",
        "while a<1000 and b<1000:\n",
        "    print(p)"
      ],
      "metadata": {
        "id": "z7CBG02RhQCa"
      },
      "execution_count": null,
      "outputs": []
    },
    {
      "cell_type": "code",
      "source": [
        "myl=[2,3,7,5]\n",
        "sl=[3,2,5,7]\n",
        "sortedmyl=sorted(myl)\n",
        "print(sortedmyl)\n",
        "slsort=sl.sort()\n",
        "print(slsort)\n",
        "print(sortedmyl==slsort)"
      ],
      "metadata": {
        "colab": {
          "base_uri": "https://localhost:8080/"
        },
        "id": "GP4PVCe3pUml",
        "outputId": "7a70fee5-5ca2-412f-de9a-f0eccfd03d9e"
      },
      "execution_count": null,
      "outputs": [
        {
          "output_type": "stream",
          "name": "stdout",
          "text": [
            "[2, 3, 5, 7]\n",
            "None\n",
            "False\n"
          ]
        }
      ]
    },
    {
      "cell_type": "code",
      "source": [
        "n= int(input())\n",
        "su=0\n",
        "for i in range(1,n+1):\n",
        "  su=su+i\n",
        "print(su)"
      ],
      "metadata": {
        "colab": {
          "base_uri": "https://localhost:8080/"
        },
        "id": "iRgAMZ6-srM6",
        "outputId": "b055bb02-0746-45cf-9c98-9f375179336f"
      },
      "execution_count": null,
      "outputs": [
        {
          "output_type": "stream",
          "name": "stdout",
          "text": [
            "11\n",
            "66\n"
          ]
        }
      ]
    },
    {
      "cell_type": "code",
      "source": [
        "for a in range(10):\n",
        "  if (a%3==0):\n",
        "    pass\n",
        "  print(a, end=\" \")"
      ],
      "metadata": {
        "colab": {
          "base_uri": "https://localhost:8080/"
        },
        "id": "dCHg6Ok9OTVs",
        "outputId": "ae19ea8e-ec60-43c8-f168-f7614ce576bc"
      },
      "execution_count": null,
      "outputs": [
        {
          "output_type": "stream",
          "name": "stdout",
          "text": [
            "0 1 2 3 4 5 6 7 8 9 "
          ]
        }
      ]
    },
    {
      "cell_type": "code",
      "source": [
        "x = 1\n",
        "for i in range(x):\n",
        "    x=x+1\n",
        "    print(i, end= \" \")"
      ],
      "metadata": {
        "colab": {
          "base_uri": "https://localhost:8080/"
        },
        "id": "l7OAHdEzPr_7",
        "outputId": "4c3ebb16-b2a0-4414-838d-0e85c27e144e"
      },
      "execution_count": null,
      "outputs": [
        {
          "output_type": "stream",
          "name": "stdout",
          "text": [
            "0 "
          ]
        }
      ]
    },
    {
      "cell_type": "code",
      "source": [
        "sn=1\n",
        "for i in range(sn,17,3):\n",
        "  print(i,end=',')\n",
        "  if i == 16:\n",
        "    print(end='')\n"
      ],
      "metadata": {
        "colab": {
          "base_uri": "https://localhost:8080/"
        },
        "id": "_UjDUCrhXAyz",
        "outputId": "605743b8-46af-4521-a363-af7487c0515e"
      },
      "execution_count": null,
      "outputs": [
        {
          "output_type": "stream",
          "name": "stdout",
          "text": [
            "1,4,7,10,13,16,"
          ]
        }
      ]
    },
    {
      "cell_type": "code",
      "source": [
        "A= int(input())\n",
        "s=0\n",
        "for i in range(1,11):\n",
        "  s=A*i\n",
        "  print(A,'*',i,'=',s)"
      ],
      "metadata": {
        "id": "x5BqH0cK8yuW"
      },
      "execution_count": null,
      "outputs": []
    },
    {
      "cell_type": "code",
      "source": [
        "i=2\n",
        "if i==2:\n",
        "    i+=1\n",
        "for j in range(i):\n",
        "    pass\n",
        "    break\n",
        "    i+=1\n",
        "print(i)"
      ],
      "metadata": {
        "colab": {
          "base_uri": "https://localhost:8080/"
        },
        "id": "CPddFqU5cQzV",
        "outputId": "92834bbc-de2c-4108-fea3-753fea04b1cc"
      },
      "execution_count": null,
      "outputs": [
        {
          "output_type": "stream",
          "name": "stdout",
          "text": [
            "3\n"
          ]
        }
      ]
    },
    {
      "cell_type": "code",
      "source": [
        "n=8\n",
        "while n>=0:\n",
        "   n -= 2\n",
        "   if n%2==0:\n",
        "       continue\n",
        "   print(n, end=\" \")\n",
        "else:\n",
        "   print(\"Exec\", end=\" \")"
      ],
      "metadata": {
        "colab": {
          "base_uri": "https://localhost:8080/"
        },
        "id": "Ddrz7px2dioX",
        "outputId": "d596d767-32d6-4b2a-d661-79a0b05dbb72"
      },
      "execution_count": null,
      "outputs": [
        {
          "output_type": "stream",
          "name": "stdout",
          "text": [
            "Exec "
          ]
        }
      ]
    },
    {
      "cell_type": "code",
      "source": [
        "import random\n",
        "def my_func():\n",
        "  emotions =[\"M\",\"h\",\"d\"]\n",
        "  return random.choice(emotions)\n",
        "\n",
        "result=my_func()\n",
        "print(result)"
      ],
      "metadata": {
        "colab": {
          "base_uri": "https://localhost:8080/"
        },
        "id": "5CVYao-Xjfk-",
        "outputId": "53453cf4-304b-411d-f907-2269ca957343"
      },
      "execution_count": null,
      "outputs": [
        {
          "output_type": "stream",
          "name": "stdout",
          "text": [
            "h\n"
          ]
        }
      ]
    },
    {
      "cell_type": "markdown",
      "source": [
        "Question 1 -\n",
        "Create a date printing function (print_date) -\n",
        "Should take 4 arguments -> day, month, year and style Styling Logic -\n",
        "style -> 0 -> d/m/y\n",
        "style -> 1 -> m/d/y\n",
        "style -> any other value -> Invalid Style default style is 0."
      ],
      "metadata": {
        "id": "zG2bbxYr2FfL"
      }
    },
    {
      "cell_type": "code",
      "source": [
        "def dateprint(day,month,year,sl):\n",
        "  if sl==0:\n",
        "    print(day,month,year, sep='/')\n",
        "  elif sl==1:\n",
        "    print(month,day,year, sep='/')\n",
        "  else:\n",
        "    print('invalid style')\n",
        "print(dateprint(10,10,2023,1))"
      ],
      "metadata": {
        "colab": {
          "base_uri": "https://localhost:8080/"
        },
        "id": "7RGBxuU52BO_",
        "outputId": "b0bd1103-f2b6-41b8-bd6a-7ade6c8c81f5"
      },
      "execution_count": null,
      "outputs": [
        {
          "output_type": "stream",
          "name": "stdout",
          "text": [
            "10/10/2023\n",
            "None\n"
          ]
        }
      ]
    },
    {
      "cell_type": "code",
      "source": [
        "num = int(input())\n",
        "while num > 1:\n",
        "    num = num // 3\n",
        "print(num)"
      ],
      "metadata": {
        "colab": {
          "base_uri": "https://localhost:8080/"
        },
        "id": "yOdqo0vzuZCC",
        "outputId": "704e8ce9-6714-4e33-ffdd-07b0dc73eba7"
      },
      "execution_count": null,
      "outputs": [
        {
          "output_type": "stream",
          "name": "stdout",
          "text": [
            "89\n",
            "1\n"
          ]
        }
      ]
    },
    {
      "cell_type": "code",
      "source": [
        "num = int(input())\n",
        "val = 0\n",
        "for i in range(2, num):\n",
        "    val = val + i\n",
        "if val > 10:\n",
        "    print('Hello, this is Raj')\n",
        "else:\n",
        "    print('There is no one')"
      ],
      "metadata": {
        "colab": {
          "base_uri": "https://localhost:8080/"
        },
        "id": "dI2599Asu6oR",
        "outputId": "fcc9dc2b-a6f9-488e-8405-26a89445f4ef"
      },
      "execution_count": null,
      "outputs": [
        {
          "output_type": "stream",
          "name": "stdout",
          "text": [
            "6\n",
            "Hello, this is Raj\n"
          ]
        }
      ]
    },
    {
      "cell_type": "code",
      "source": [
        "def main():\n",
        "    T=int(input())\n",
        "    i=1\n",
        "    while(i<=T):\n",
        "        A=int(input())\n",
        "        if(A==0):\n",
        "            print(0)\n",
        "        else:\n",
        "            temp=0\n",
        "            while(A!=0):\n",
        "                temp2=0\n",
        "                temp+=temp2\n",
        "                A=A//10\n",
        "            print(temp)\n",
        "        i+=1\n",
        "\n",
        "if __name__ == '__main__':\n",
        "    main()"
      ],
      "metadata": {
        "colab": {
          "base_uri": "https://localhost:8080/",
          "height": 402
        },
        "id": "Ra1MWkiI3V4V",
        "outputId": "ef76829a-370d-4d19-832c-fa80304f452f"
      },
      "execution_count": null,
      "outputs": [
        {
          "output_type": "stream",
          "name": "stdout",
          "text": [
            "3\n",
            "111\n",
            "0\n"
          ]
        },
        {
          "output_type": "error",
          "ename": "KeyboardInterrupt",
          "evalue": "ignored",
          "traceback": [
            "\u001b[0;31m---------------------------------------------------------------------------\u001b[0m",
            "\u001b[0;31mKeyboardInterrupt\u001b[0m                         Traceback (most recent call last)",
            "\u001b[0;32m<ipython-input-7-0a0e5ec9dcce>\u001b[0m in \u001b[0;36m<cell line: 17>\u001b[0;34m()\u001b[0m\n\u001b[1;32m     16\u001b[0m \u001b[0;34m\u001b[0m\u001b[0m\n\u001b[1;32m     17\u001b[0m \u001b[0;32mif\u001b[0m \u001b[0m__name__\u001b[0m \u001b[0;34m==\u001b[0m \u001b[0;34m'__main__'\u001b[0m\u001b[0;34m:\u001b[0m\u001b[0;34m\u001b[0m\u001b[0;34m\u001b[0m\u001b[0m\n\u001b[0;32m---> 18\u001b[0;31m     \u001b[0mmain\u001b[0m\u001b[0;34m(\u001b[0m\u001b[0;34m)\u001b[0m\u001b[0;34m\u001b[0m\u001b[0;34m\u001b[0m\u001b[0m\n\u001b[0m",
            "\u001b[0;32m<ipython-input-7-0a0e5ec9dcce>\u001b[0m in \u001b[0;36mmain\u001b[0;34m()\u001b[0m\n\u001b[1;32m      3\u001b[0m     \u001b[0mi\u001b[0m\u001b[0;34m=\u001b[0m\u001b[0;36m1\u001b[0m\u001b[0;34m\u001b[0m\u001b[0;34m\u001b[0m\u001b[0m\n\u001b[1;32m      4\u001b[0m     \u001b[0;32mwhile\u001b[0m\u001b[0;34m(\u001b[0m\u001b[0mi\u001b[0m\u001b[0;34m<=\u001b[0m\u001b[0mT\u001b[0m\u001b[0;34m)\u001b[0m\u001b[0;34m:\u001b[0m\u001b[0;34m\u001b[0m\u001b[0;34m\u001b[0m\u001b[0m\n\u001b[0;32m----> 5\u001b[0;31m         \u001b[0mA\u001b[0m\u001b[0;34m=\u001b[0m\u001b[0mint\u001b[0m\u001b[0;34m(\u001b[0m\u001b[0minput\u001b[0m\u001b[0;34m(\u001b[0m\u001b[0;34m)\u001b[0m\u001b[0;34m)\u001b[0m\u001b[0;34m\u001b[0m\u001b[0;34m\u001b[0m\u001b[0m\n\u001b[0m\u001b[1;32m      6\u001b[0m         \u001b[0;32mif\u001b[0m\u001b[0;34m(\u001b[0m\u001b[0mA\u001b[0m\u001b[0;34m==\u001b[0m\u001b[0;36m0\u001b[0m\u001b[0;34m)\u001b[0m\u001b[0;34m:\u001b[0m\u001b[0;34m\u001b[0m\u001b[0;34m\u001b[0m\u001b[0m\n\u001b[1;32m      7\u001b[0m             \u001b[0mprint\u001b[0m\u001b[0;34m(\u001b[0m\u001b[0;36m0\u001b[0m\u001b[0;34m)\u001b[0m\u001b[0;34m\u001b[0m\u001b[0;34m\u001b[0m\u001b[0m\n",
            "\u001b[0;32m/usr/local/lib/python3.10/dist-packages/ipykernel/kernelbase.py\u001b[0m in \u001b[0;36mraw_input\u001b[0;34m(self, prompt)\u001b[0m\n\u001b[1;32m    849\u001b[0m                 \u001b[0;34m\"raw_input was called, but this frontend does not support input requests.\"\u001b[0m\u001b[0;34m\u001b[0m\u001b[0;34m\u001b[0m\u001b[0m\n\u001b[1;32m    850\u001b[0m             )\n\u001b[0;32m--> 851\u001b[0;31m         return self._input_request(str(prompt),\n\u001b[0m\u001b[1;32m    852\u001b[0m             \u001b[0mself\u001b[0m\u001b[0;34m.\u001b[0m\u001b[0m_parent_ident\u001b[0m\u001b[0;34m,\u001b[0m\u001b[0;34m\u001b[0m\u001b[0;34m\u001b[0m\u001b[0m\n\u001b[1;32m    853\u001b[0m             \u001b[0mself\u001b[0m\u001b[0;34m.\u001b[0m\u001b[0m_parent_header\u001b[0m\u001b[0;34m,\u001b[0m\u001b[0;34m\u001b[0m\u001b[0;34m\u001b[0m\u001b[0m\n",
            "\u001b[0;32m/usr/local/lib/python3.10/dist-packages/ipykernel/kernelbase.py\u001b[0m in \u001b[0;36m_input_request\u001b[0;34m(self, prompt, ident, parent, password)\u001b[0m\n\u001b[1;32m    893\u001b[0m             \u001b[0;32mexcept\u001b[0m \u001b[0mKeyboardInterrupt\u001b[0m\u001b[0;34m:\u001b[0m\u001b[0;34m\u001b[0m\u001b[0;34m\u001b[0m\u001b[0m\n\u001b[1;32m    894\u001b[0m                 \u001b[0;31m# re-raise KeyboardInterrupt, to truncate traceback\u001b[0m\u001b[0;34m\u001b[0m\u001b[0;34m\u001b[0m\u001b[0m\n\u001b[0;32m--> 895\u001b[0;31m                 \u001b[0;32mraise\u001b[0m \u001b[0mKeyboardInterrupt\u001b[0m\u001b[0;34m(\u001b[0m\u001b[0;34m\"Interrupted by user\"\u001b[0m\u001b[0;34m)\u001b[0m \u001b[0;32mfrom\u001b[0m \u001b[0;32mNone\u001b[0m\u001b[0;34m\u001b[0m\u001b[0;34m\u001b[0m\u001b[0m\n\u001b[0m\u001b[1;32m    896\u001b[0m             \u001b[0;32mexcept\u001b[0m \u001b[0mException\u001b[0m \u001b[0;32mas\u001b[0m \u001b[0me\u001b[0m\u001b[0;34m:\u001b[0m\u001b[0;34m\u001b[0m\u001b[0;34m\u001b[0m\u001b[0m\n\u001b[1;32m    897\u001b[0m                 \u001b[0mself\u001b[0m\u001b[0;34m.\u001b[0m\u001b[0mlog\u001b[0m\u001b[0;34m.\u001b[0m\u001b[0mwarning\u001b[0m\u001b[0;34m(\u001b[0m\u001b[0;34m\"Invalid Message:\"\u001b[0m\u001b[0;34m,\u001b[0m \u001b[0mexc_info\u001b[0m\u001b[0;34m=\u001b[0m\u001b[0;32mTrue\u001b[0m\u001b[0;34m)\u001b[0m\u001b[0;34m\u001b[0m\u001b[0;34m\u001b[0m\u001b[0m\n",
            "\u001b[0;31mKeyboardInterrupt\u001b[0m: Interrupted by user"
          ]
        }
      ]
    },
    {
      "cell_type": "code",
      "source": [
        "x = \"global\"\n",
        "def foo():\n",
        "    global x\n",
        "    print(x, end=\",\")\n",
        "    x = \"local\"\n",
        "    print(x, end=\",\")\n",
        "\n",
        "foo()\n",
        "print(x, end=\"\")"
      ],
      "metadata": {
        "colab": {
          "base_uri": "https://localhost:8080/"
        },
        "id": "XlJQ3UZO0U3N",
        "outputId": "94f026bb-eca7-4714-a72f-0dbfe8b22299"
      },
      "execution_count": null,
      "outputs": [
        {
          "output_type": "stream",
          "name": "stdout",
          "text": [
            "global,local,local"
          ]
        }
      ]
    },
    {
      "cell_type": "code",
      "source": [
        "def foo():\n",
        "    x = \"hello world\"\n",
        "\n",
        "foo()\n",
        "print(x)"
      ],
      "metadata": {
        "colab": {
          "base_uri": "https://localhost:8080/"
        },
        "id": "AFdG1hjn0eHu",
        "outputId": "0bc01630-96c9-4e8f-ab46-b7bed27aa2e0"
      },
      "execution_count": null,
      "outputs": [
        {
          "output_type": "stream",
          "name": "stdout",
          "text": [
            "local\n"
          ]
        }
      ]
    },
    {
      "cell_type": "code",
      "source": [
        "x = 5\n",
        "\n",
        "def foo(x):\n",
        "    x = 4\n",
        "\n",
        "foo(x)\n",
        "print(x)"
      ],
      "metadata": {
        "colab": {
          "base_uri": "https://localhost:8080/"
        },
        "id": "K818prnK0t8Y",
        "outputId": "baba6e87-744c-47ff-9168-1283bf9512a4"
      },
      "execution_count": null,
      "outputs": [
        {
          "output_type": "stream",
          "name": "stdout",
          "text": [
            "5\n"
          ]
        }
      ]
    },
    {
      "cell_type": "code",
      "source": [
        "def Interest(p,c,t=2,r=0.09):\n",
        "  return p*t*r\n"
      ],
      "metadata": {
        "colab": {
          "base_uri": "https://localhost:8080/"
        },
        "id": "wrnhzTb1z4SU",
        "outputId": "4678b646-1597-4eeb-a32e-080407c323ef"
      },
      "execution_count": null,
      "outputs": [
        {
          "output_type": "stream",
          "name": "stdout",
          "text": [
            "<function Interest at 0x7d960a0abe20>\n"
          ]
        }
      ]
    },
    {
      "cell_type": "code",
      "source": [
        "def not_even(lst):\n",
        "  res = []\n",
        "  for ele in lst:\n",
        "    if (ele% 2 == 1): lst.remove(ele)\n",
        "  return res\n",
        "not_even(elements)\n",
        "elements=[24,32,13,15,19,44,52,7,9,2,51]"
      ],
      "metadata": {
        "colab": {
          "base_uri": "https://localhost:8080/",
          "height": 225
        },
        "id": "z_JkOVPuTLKM",
        "outputId": "2b8e79c0-d859-43e5-9e27-4cf8fbbc959e"
      },
      "execution_count": null,
      "outputs": [
        {
          "output_type": "error",
          "ename": "NameError",
          "evalue": "ignored",
          "traceback": [
            "\u001b[0;31m---------------------------------------------------------------------------\u001b[0m",
            "\u001b[0;31mNameError\u001b[0m                                 Traceback (most recent call last)",
            "\u001b[0;32m<ipython-input-5-5eaa39c28f61>\u001b[0m in \u001b[0;36m<cell line: 6>\u001b[0;34m()\u001b[0m\n\u001b[1;32m      4\u001b[0m     \u001b[0;32mif\u001b[0m \u001b[0;34m(\u001b[0m\u001b[0mele\u001b[0m\u001b[0;34m%\u001b[0m \u001b[0;36m2\u001b[0m \u001b[0;34m==\u001b[0m \u001b[0;36m1\u001b[0m\u001b[0;34m)\u001b[0m\u001b[0;34m:\u001b[0m \u001b[0mlst\u001b[0m\u001b[0;34m.\u001b[0m\u001b[0mremove\u001b[0m\u001b[0;34m(\u001b[0m\u001b[0mele\u001b[0m\u001b[0;34m)\u001b[0m\u001b[0;34m\u001b[0m\u001b[0;34m\u001b[0m\u001b[0m\n\u001b[1;32m      5\u001b[0m   \u001b[0;32mreturn\u001b[0m \u001b[0mres\u001b[0m\u001b[0;34m\u001b[0m\u001b[0;34m\u001b[0m\u001b[0m\n\u001b[0;32m----> 6\u001b[0;31m \u001b[0mnot_even\u001b[0m\u001b[0;34m(\u001b[0m\u001b[0melements\u001b[0m\u001b[0;34m)\u001b[0m\u001b[0;34m\u001b[0m\u001b[0;34m\u001b[0m\u001b[0m\n\u001b[0m\u001b[1;32m      7\u001b[0m \u001b[0melements\u001b[0m\u001b[0;34m=\u001b[0m\u001b[0;34m[\u001b[0m\u001b[0;36m24\u001b[0m\u001b[0;34m,\u001b[0m\u001b[0;36m32\u001b[0m\u001b[0;34m,\u001b[0m\u001b[0;36m13\u001b[0m\u001b[0;34m,\u001b[0m\u001b[0;36m15\u001b[0m\u001b[0;34m,\u001b[0m\u001b[0;36m19\u001b[0m\u001b[0;34m,\u001b[0m\u001b[0;36m44\u001b[0m\u001b[0;34m,\u001b[0m\u001b[0;36m52\u001b[0m\u001b[0;34m,\u001b[0m\u001b[0;36m7\u001b[0m\u001b[0;34m,\u001b[0m\u001b[0;36m9\u001b[0m\u001b[0;34m,\u001b[0m\u001b[0;36m2\u001b[0m\u001b[0;34m,\u001b[0m\u001b[0;36m51\u001b[0m\u001b[0;34m]\u001b[0m\u001b[0;34m\u001b[0m\u001b[0;34m\u001b[0m\u001b[0m\n",
            "\u001b[0;31mNameError\u001b[0m: name 'elements' is not defined"
          ]
        }
      ]
    },
    {
      "cell_type": "markdown",
      "source": [
        "Given list of all runs by Virat, print runs made in odd matches (Even Indexes). runs = [62, 85, 74, 10, 12, 101, 122, 99, 81, 55]"
      ],
      "metadata": {
        "id": "eMnLNgSfeh_O"
      }
    },
    {
      "cell_type": "code",
      "source": [
        "runs=[62, 85, 74, 10, 12, 101, 122, 99, 81, 55]\n",
        "for i in range(len(runs),)"
      ],
      "metadata": {
        "id": "Oc0QRhZBemiq"
      },
      "execution_count": null,
      "outputs": []
    },
    {
      "cell_type": "code",
      "source": [
        "word = \"Scaler Data Science Course\"\n",
        "word_list = list(word)\n",
        "print(word_list[7:19])\n",
        "print(word_list[7:18])"
      ],
      "metadata": {
        "colab": {
          "base_uri": "https://localhost:8080/"
        },
        "id": "DK6tBx0JskIy",
        "outputId": "a0629aed-7c28-4ed3-ec7f-69173618a7d3"
      },
      "execution_count": null,
      "outputs": [
        {
          "output_type": "stream",
          "name": "stdout",
          "text": [
            "['D', 'a', 't', 'a', ' ', 'S', 'c', 'i', 'e', 'n', 'c', 'e']\n",
            "['D', 'a', 't', 'a', ' ', 'S', 'c', 'i', 'e', 'n', 'c']\n"
          ]
        }
      ]
    },
    {
      "cell_type": "code",
      "source": [
        "[1, 3, 4, 4, 3, 1, 2, 3, 2][:6:2]"
      ],
      "metadata": {
        "colab": {
          "base_uri": "https://localhost:8080/"
        },
        "id": "uP-xYvseZW5W",
        "outputId": "14d1d663-53e4-4e0b-9032-f6792fe2d831"
      },
      "execution_count": null,
      "outputs": [
        {
          "output_type": "execute_result",
          "data": {
            "text/plain": [
              "[1, 4, 3]"
            ]
          },
          "metadata": {},
          "execution_count": 1
        }
      ]
    },
    {
      "cell_type": "code",
      "source": [],
      "metadata": {
        "id": "wYFl4xnzBDpi"
      },
      "execution_count": null,
      "outputs": []
    },
    {
      "cell_type": "markdown",
      "source": [
        "matrix = [\n",
        "[1, 2, 3],\n",
        "[4, 5, 6],\n",
        "[7, 8, 9],\n",
        "[0,10,11]\n",
        "]\n",
        "what is the sum of all the elements?"
      ],
      "metadata": {
        "id": "8k2QG5JKBIRN"
      }
    },
    {
      "cell_type": "code",
      "source": [
        "\n",
        "matrix = [\n",
        "[1, 2, 3],\n",
        "[4, 5, 6],\n",
        "[7, 8, 9],\n",
        "[0,10,11]\n",
        "]\n",
        "sum=0\n",
        "for row in matrix:\n",
        "  for e in row:\n",
        "    sum+=e\n",
        "print(sum)"
      ],
      "metadata": {
        "colab": {
          "base_uri": "https://localhost:8080/"
        },
        "id": "Skf2RSWnBKcM",
        "outputId": "65e595eb-0b86-4bf9-8ade-2cdf2bb6c296"
      },
      "execution_count": null,
      "outputs": [
        {
          "output_type": "stream",
          "name": "stdout",
          "text": [
            "66\n"
          ]
        }
      ]
    },
    {
      "cell_type": "code",
      "source": [
        "matrix = [\n",
        "[1, 2, 3],\n",
        "[4, 5, 6],\n",
        "[7, 8, 9],\n",
        "[0,10,11]\n",
        "]\n",
        "sum=0\n",
        "for row in matrix:\n",
        "  sum+=e\n",
        "  print(sum)\n"
      ],
      "metadata": {
        "colab": {
          "base_uri": "https://localhost:8080/"
        },
        "id": "JvnfT887ChXZ",
        "outputId": "9eb2ccea-5b41-42d7-9801-3cc0e36b6360"
      },
      "execution_count": null,
      "outputs": [
        {
          "output_type": "stream",
          "name": "stdout",
          "text": [
            "11\n",
            "22\n",
            "33\n",
            "44\n"
          ]
        }
      ]
    },
    {
      "cell_type": "code",
      "source": [],
      "metadata": {
        "id": "HlBDIqwzcFCx"
      },
      "execution_count": null,
      "outputs": []
    },
    {
      "cell_type": "code",
      "source": [
        "arr1=[1,2,3]\n",
        "arr2=[6,5,4]\n",
        "arr1.extend(arr2)\n",
        "arr2.sort()\n",
        "print(arr1,arr2)"
      ],
      "metadata": {
        "colab": {
          "base_uri": "https://localhost:8080/"
        },
        "id": "pg-3reORcOD5",
        "outputId": "3d4709c1-8bc0-4d19-dd93-3c9b33c2c726"
      },
      "execution_count": null,
      "outputs": [
        {
          "output_type": "stream",
          "name": "stdout",
          "text": [
            "[1, 2, 3, 6, 5, 4] [4, 5, 6]\n"
          ]
        }
      ]
    },
    {
      "cell_type": "code",
      "source": [
        "arr=[1, 3, 4, 4, 3, 1, 2, 3, 2][:3]\n",
        "print(arr)"
      ],
      "metadata": {
        "colab": {
          "base_uri": "https://localhost:8080/"
        },
        "id": "CJeCOvMSfN4P",
        "outputId": "6d564ecb-c8d8-40aa-ceba-020a1fcf23f2"
      },
      "execution_count": null,
      "outputs": [
        {
          "output_type": "stream",
          "name": "stdout",
          "text": [
            "[1, 3, 4]\n"
          ]
        }
      ]
    },
    {
      "cell_type": "code",
      "source": [
        "numbers=[1,2,3,4,5,6,7]\n",
        "even=[]\n",
        "for i in numbers:\n",
        "  if i%2==0:\n",
        "    even.append(i)\n",
        "print(even)"
      ],
      "metadata": {
        "colab": {
          "base_uri": "https://localhost:8080/"
        },
        "id": "D8Vzegdekz8R",
        "outputId": "3fc21bae-a1b8-4044-abe0-ade7bbf768e0"
      },
      "execution_count": null,
      "outputs": [
        {
          "output_type": "stream",
          "name": "stdout",
          "text": [
            "[2, 4, 6]\n"
          ]
        }
      ]
    },
    {
      "cell_type": "code",
      "source": [
        "numbers = [10, 20, 30, 40, 50]\n",
        "total = 0\n",
        "for i in len(numbers):         #blank, Here we want to go through each element of the numbers, i refers to those elements\n",
        "  total = total + i\n",
        "\n",
        "num_size = len(numbers)\n",
        "avg = total/num_size\n",
        "print(avg)"
      ],
      "metadata": {
        "colab": {
          "base_uri": "https://localhost:8080/",
          "height": 242
        },
        "id": "R-24TzXElgpM",
        "outputId": "05337e43-e123-4fe8-fa8a-e3b5aee7ad28"
      },
      "execution_count": null,
      "outputs": [
        {
          "output_type": "error",
          "ename": "TypeError",
          "evalue": "ignored",
          "traceback": [
            "\u001b[0;31m---------------------------------------------------------------------------\u001b[0m",
            "\u001b[0;31mTypeError\u001b[0m                                 Traceback (most recent call last)",
            "\u001b[0;32m<ipython-input-13-18e143fe2e1a>\u001b[0m in \u001b[0;36m<cell line: 3>\u001b[0;34m()\u001b[0m\n\u001b[1;32m      1\u001b[0m \u001b[0mnumbers\u001b[0m \u001b[0;34m=\u001b[0m \u001b[0;34m[\u001b[0m\u001b[0;36m10\u001b[0m\u001b[0;34m,\u001b[0m \u001b[0;36m20\u001b[0m\u001b[0;34m,\u001b[0m \u001b[0;36m30\u001b[0m\u001b[0;34m,\u001b[0m \u001b[0;36m40\u001b[0m\u001b[0;34m,\u001b[0m \u001b[0;36m50\u001b[0m\u001b[0;34m]\u001b[0m\u001b[0;34m\u001b[0m\u001b[0;34m\u001b[0m\u001b[0m\n\u001b[1;32m      2\u001b[0m \u001b[0mtotal\u001b[0m \u001b[0;34m=\u001b[0m \u001b[0;36m0\u001b[0m\u001b[0;34m\u001b[0m\u001b[0;34m\u001b[0m\u001b[0m\n\u001b[0;32m----> 3\u001b[0;31m \u001b[0;32mfor\u001b[0m \u001b[0mi\u001b[0m \u001b[0;32min\u001b[0m \u001b[0mlen\u001b[0m\u001b[0;34m(\u001b[0m\u001b[0mnumbers\u001b[0m\u001b[0;34m)\u001b[0m\u001b[0;34m:\u001b[0m         \u001b[0;31m#blank, Here we want to go through each element of the numbers, i refers to those elements\u001b[0m\u001b[0;34m\u001b[0m\u001b[0;34m\u001b[0m\u001b[0m\n\u001b[0m\u001b[1;32m      4\u001b[0m   \u001b[0mtotal\u001b[0m \u001b[0;34m=\u001b[0m \u001b[0mtotal\u001b[0m \u001b[0;34m+\u001b[0m \u001b[0mi\u001b[0m\u001b[0;34m\u001b[0m\u001b[0;34m\u001b[0m\u001b[0m\n\u001b[1;32m      5\u001b[0m \u001b[0;34m\u001b[0m\u001b[0m\n",
            "\u001b[0;31mTypeError\u001b[0m: 'int' object is not iterable"
          ]
        }
      ]
    },
    {
      "cell_type": "code",
      "source": [
        "for i in range(-6, -10, -1):\n",
        "     print(i, end =\" \")"
      ],
      "metadata": {
        "colab": {
          "base_uri": "https://localhost:8080/"
        },
        "id": "B7_FPQ83mJ0G",
        "outputId": "82c91fbc-b34c-4c57-e8ba-c145fe7b0cf9"
      },
      "execution_count": null,
      "outputs": [
        {
          "output_type": "stream",
          "name": "stdout",
          "text": [
            "-6 -7 -8 -9 "
          ]
        }
      ]
    },
    {
      "cell_type": "code",
      "source": [
        "x = [1, 2]\n",
        "y = [2, 3]\n",
        "\n",
        "for i in x:\n",
        "    for j in y:\n",
        "        print(i, j, end= \" \")"
      ],
      "metadata": {
        "colab": {
          "base_uri": "https://localhost:8080/"
        },
        "id": "K39kzjbTn3qJ",
        "outputId": "3117cac7-29ac-42be-af5e-320b4426356d"
      },
      "execution_count": null,
      "outputs": [
        {
          "output_type": "stream",
          "name": "stdout",
          "text": [
            "1 2 1 3 2 2 2 3 "
          ]
        }
      ]
    },
    {
      "cell_type": "code",
      "source": [
        "a = [25, 2, 3, 57, 38, 41]\n",
        "def solution(a):\n",
        "\n",
        "    result=0\n",
        "    for i in (len[a]):\n",
        "        result=a[i]\n",
        "    print(len())\n",
        "\n"
      ],
      "metadata": {
        "id": "GAJPXihIQIpp"
      },
      "execution_count": null,
      "outputs": []
    },
    {
      "cell_type": "code",
      "source": [
        "def convert(t):\n",
        "    return t*9/5 + 32\n",
        "\n",
        "print(convert(20))"
      ],
      "metadata": {
        "colab": {
          "base_uri": "https://localhost:8080/"
        },
        "id": "0mZPHj8FEC0c",
        "outputId": "c148b162-1dc4-4fb8-8c58-8d15984a3fd5"
      },
      "execution_count": null,
      "outputs": [
        {
          "output_type": "stream",
          "name": "stdout",
          "text": [
            "68.0\n"
          ]
        }
      ]
    },
    {
      "cell_type": "code",
      "source": [
        "x = 55\n",
        "def hi():\n",
        "  return x\n",
        "x +=10\n",
        "print(hi())"
      ],
      "metadata": {
        "id": "vcAQG0efE_qO",
        "outputId": "8c29002d-1bb1-4a2f-a1fe-c3008417d809",
        "colab": {
          "base_uri": "https://localhost:8080/"
        }
      },
      "execution_count": null,
      "outputs": [
        {
          "output_type": "stream",
          "name": "stdout",
          "text": [
            "65\n"
          ]
        }
      ]
    },
    {
      "cell_type": "code",
      "source": [
        "mystr=input()\n",
        "print(mystr.reverse)"
      ],
      "metadata": {
        "colab": {
          "base_uri": "https://localhost:8080/",
          "height": 208
        },
        "id": "Wuoda5zSoyFv",
        "outputId": "e6e29a3c-b067-4f4d-cbf3-9eb40a4e9cc9"
      },
      "execution_count": null,
      "outputs": [
        {
          "name": "stdout",
          "output_type": "stream",
          "text": [
            "vijar\n"
          ]
        },
        {
          "output_type": "error",
          "ename": "AttributeError",
          "evalue": "ignored",
          "traceback": [
            "\u001b[0;31m---------------------------------------------------------------------------\u001b[0m",
            "\u001b[0;31mAttributeError\u001b[0m                            Traceback (most recent call last)",
            "\u001b[0;32m<ipython-input-2-d22bf91f6da5>\u001b[0m in \u001b[0;36m<cell line: 2>\u001b[0;34m()\u001b[0m\n\u001b[1;32m      1\u001b[0m \u001b[0mmystr\u001b[0m\u001b[0;34m=\u001b[0m\u001b[0minput\u001b[0m\u001b[0;34m(\u001b[0m\u001b[0;34m)\u001b[0m\u001b[0;34m\u001b[0m\u001b[0;34m\u001b[0m\u001b[0m\n\u001b[0;32m----> 2\u001b[0;31m \u001b[0mprint\u001b[0m\u001b[0;34m(\u001b[0m\u001b[0mmystr\u001b[0m\u001b[0;34m.\u001b[0m\u001b[0mreverse\u001b[0m\u001b[0;34m)\u001b[0m\u001b[0;34m\u001b[0m\u001b[0;34m\u001b[0m\u001b[0m\n\u001b[0m",
            "\u001b[0;31mAttributeError\u001b[0m: 'str' object has no attribute 'reverse'"
          ]
        }
      ]
    },
    {
      "cell_type": "code",
      "source": [
        "\n",
        "strs=input()\n",
        "new\n",
        "for i in strs(::-1):\n",
        "\n",
        "  if strs==\n"
      ],
      "metadata": {
        "id": "6EqOeiPapZG_"
      },
      "execution_count": null,
      "outputs": []
    },
    {
      "cell_type": "code",
      "source": [
        "def generate_str(lst):\n",
        "  s=\"\"\n",
        "  for i in lst:\n",
        "    s+=chr(i)\n"
      ],
      "metadata": {
        "id": "jhSF1pFoxjf6"
      },
      "execution_count": null,
      "outputs": []
    },
    {
      "cell_type": "code",
      "source": [
        "mystr=\"vijay\"\n",
        "for i in mystr[::-1]:\n",
        "  print(i.lower(),end=\"\")\n",
        "\n"
      ],
      "metadata": {
        "colab": {
          "base_uri": "https://localhost:8080/"
        },
        "id": "eaTw6C4avmVw",
        "outputId": "211b984c-c407-414f-fd21-237b09ec7cc1"
      },
      "execution_count": null,
      "outputs": [
        {
          "output_type": "stream",
          "name": "stdout",
          "text": [
            "yajiv"
          ]
        }
      ]
    },
    {
      "cell_type": "code",
      "source": [
        "class Solution:\n",
        "\n",
        "    def solve(self, A):\n",
        "        for i in A[::-1]:\n",
        "            print(i.lower(),end=\"\")\n"
      ],
      "metadata": {
        "colab": {
          "base_uri": "https://localhost:8080/",
          "height": 208
        },
        "id": "9y1HAqkPzlIq",
        "outputId": "630dc0e3-86a4-43e1-be6f-98d482408133"
      },
      "execution_count": null,
      "outputs": [
        {
          "output_type": "error",
          "ename": "NameError",
          "evalue": "ignored",
          "traceback": [
            "\u001b[0;31m---------------------------------------------------------------------------\u001b[0m",
            "\u001b[0;31mNameError\u001b[0m                                 Traceback (most recent call last)",
            "\u001b[0;32m<ipython-input-14-641996756ec5>\u001b[0m in \u001b[0;36m<cell line: 6>\u001b[0;34m()\u001b[0m\n\u001b[1;32m      4\u001b[0m         \u001b[0;32mfor\u001b[0m \u001b[0mi\u001b[0m \u001b[0;32min\u001b[0m \u001b[0mA\u001b[0m\u001b[0;34m[\u001b[0m\u001b[0;34m:\u001b[0m\u001b[0;34m:\u001b[0m\u001b[0;34m-\u001b[0m\u001b[0;36m1\u001b[0m\u001b[0;34m]\u001b[0m\u001b[0;34m:\u001b[0m\u001b[0;34m\u001b[0m\u001b[0;34m\u001b[0m\u001b[0m\n\u001b[1;32m      5\u001b[0m             \u001b[0mprint\u001b[0m\u001b[0;34m(\u001b[0m\u001b[0mi\u001b[0m\u001b[0;34m.\u001b[0m\u001b[0mlower\u001b[0m\u001b[0;34m(\u001b[0m\u001b[0;34m)\u001b[0m\u001b[0;34m,\u001b[0m\u001b[0mend\u001b[0m\u001b[0;34m=\u001b[0m\u001b[0;34m\"\"\u001b[0m\u001b[0;34m)\u001b[0m\u001b[0;34m\u001b[0m\u001b[0;34m\u001b[0m\u001b[0m\n\u001b[0;32m----> 6\u001b[0;31m \u001b[0msolve\u001b[0m\u001b[0;34m(\u001b[0m\u001b[0mA\u001b[0m\u001b[0;34m=\u001b[0m\u001b[0minput\u001b[0m\u001b[0;34m(\u001b[0m\u001b[0;34m)\u001b[0m\u001b[0;34m)\u001b[0m\u001b[0;34m\u001b[0m\u001b[0;34m\u001b[0m\u001b[0m\n\u001b[0m",
            "\u001b[0;31mNameError\u001b[0m: name 'solve' is not defined"
          ]
        }
      ]
    },
    {
      "cell_type": "code",
      "source": [
        "s=\"hello\"\n",
        "print( s[: : -1] )"
      ],
      "metadata": {
        "colab": {
          "base_uri": "https://localhost:8080/"
        },
        "id": "nFZAnUff2VHs",
        "outputId": "2abe9098-1179-40d1-839f-7563ba8046fe"
      },
      "execution_count": null,
      "outputs": [
        {
          "output_type": "stream",
          "name": "stdout",
          "text": [
            "olleh\n"
          ]
        }
      ]
    },
    {
      "cell_type": "code",
      "source": [
        "word = \"Scaler Academy\"\n",
        "n = len(word)\n",
        "word1 = word.upper()\n",
        "word2 = word.lower()\n",
        "\n",
        "converted_word = \"\"\n",
        "\n",
        "for i in range(n):\n",
        "     if i % 2 == 0:\n",
        "          converted_word += word2[i]\n",
        "          print(converted_word)\n",
        "     else:\n",
        "          converted_word += word1[i]\n",
        "          print(converted_word)\n"
      ],
      "metadata": {
        "colab": {
          "base_uri": "https://localhost:8080/"
        },
        "id": "C5z2yE5qOxg_",
        "outputId": "992f38ad-a587-4902-c5e9-78f863187577"
      },
      "execution_count": null,
      "outputs": [
        {
          "output_type": "stream",
          "name": "stdout",
          "text": [
            "s\n",
            "sC\n",
            "sCa\n",
            "sCaL\n",
            "sCaLe\n",
            "sCaLeR\n",
            "sCaLeR \n",
            "sCaLeR A\n",
            "sCaLeR Ac\n",
            "sCaLeR AcA\n",
            "sCaLeR AcAd\n",
            "sCaLeR AcAdE\n",
            "sCaLeR AcAdEm\n",
            "sCaLeR AcAdEmY\n"
          ]
        }
      ]
    },
    {
      "cell_type": "code",
      "source": [
        "a = 'hello'\n",
        "b = a\n",
        "a = 'yello'\n",
        "\n",
        "print(b)\n",
        "print(a)"
      ],
      "metadata": {
        "colab": {
          "base_uri": "https://localhost:8080/"
        },
        "id": "kYtzp132P7uu",
        "outputId": "2d611169-a61b-4e4f-90e6-563e5d53f425"
      },
      "execution_count": null,
      "outputs": [
        {
          "output_type": "stream",
          "name": "stdout",
          "text": [
            "hello\n",
            "yello\n"
          ]
        }
      ]
    },
    {
      "cell_type": "code",
      "source": [
        "players = ['Jadeja','Rahul','Rohit']\n",
        "players[len(players):] = ['Dhoni', 'Virat']\n",
        "print(players)"
      ],
      "metadata": {
        "colab": {
          "base_uri": "https://localhost:8080/"
        },
        "id": "qaP-HtGwQhTj",
        "outputId": "4429eff3-58c5-4db2-d37d-b1813b9f1e05"
      },
      "execution_count": null,
      "outputs": [
        {
          "output_type": "stream",
          "name": "stdout",
          "text": [
            "['Jadeja', 'Rahul', 'Rohit', 'Dhoni', 'Virat']\n"
          ]
        }
      ]
    },
    {
      "cell_type": "code",
      "source": [
        "words= ['goOd','mORNing','HOW','are','yoU','todAy']\n",
        "\n",
        "def upper_char(words):\n",
        "  output=[]\n",
        "  for i in range(len(words)):\n",
        "    if words[i][2].isupper() == True:\n",
        "      output.append(words[i])\n",
        "  return output\n",
        "upper_char(words)"
      ],
      "metadata": {
        "colab": {
          "base_uri": "https://localhost:8080/"
        },
        "id": "_ZqYBV1rMK7_",
        "outputId": "13c6e98a-0d40-4d76-e607-e54833db0dcc"
      },
      "execution_count": null,
      "outputs": [
        {
          "output_type": "execute_result",
          "data": {
            "text/plain": [
              "['goOd', 'mORNing', 'HOW', 'yoU']"
            ]
          },
          "metadata": {},
          "execution_count": 3
        }
      ]
    },
    {
      "cell_type": "code",
      "source": [
        "bbt = {'Sheldon': 1, 'Leonard': 2}\n",
        "bbt.update({'Penny': 2})\n",
        "print(bbt)"
      ],
      "metadata": {
        "colab": {
          "base_uri": "https://localhost:8080/"
        },
        "id": "S9ANMrDynsnk",
        "outputId": "2eb525a0-5353-48e3-e1d9-3c0bdfe6f75f"
      },
      "execution_count": null,
      "outputs": [
        {
          "output_type": "stream",
          "name": "stdout",
          "text": [
            "{'Sheldon': 1, 'Leonard': 2, 'Penny': 2}\n"
          ]
        }
      ]
    },
    {
      "cell_type": "code",
      "source": [
        "freshers = {\n",
        "    'student1': {'name': 'yash', 'salary': 7500},\n",
        "    'student2': {'name': 'heet', 'salary': 8000},\n",
        "    'student3': {'name':'smit', 'salary': 6500}\n",
        "}\n",
        "freshers['student3']['salary'] = 8500\n",
        "print(freshers)"
      ],
      "metadata": {
        "colab": {
          "base_uri": "https://localhost:8080/"
        },
        "id": "DWBhM8gkn2Oh",
        "outputId": "bb9e619c-d995-49ae-a459-cb92e359c4db"
      },
      "execution_count": null,
      "outputs": [
        {
          "output_type": "stream",
          "name": "stdout",
          "text": [
            "{'student1': {'name': 'yash', 'salary': 7500}, 'student2': {'name': 'heet', 'salary': 8000}, 'student3': {'name': 'smit', 'salary': 8500}}\n"
          ]
        }
      ]
    },
    {
      "cell_type": "code",
      "source": [
        "dict1 = {'age': 35, 'name': 'abc', 'salary': 45000}\n",
        "\n",
        "val = dict1['age']\n",
        "\n",
        "if val in dict1:\n",
        "    print('This is a member of the dictionary')\n",
        "else:\n",
        "    print('This is not a member of the dictionary')"
      ],
      "metadata": {
        "colab": {
          "base_uri": "https://localhost:8080/"
        },
        "id": "EOfQlgsuos6P",
        "outputId": "7a1bcc26-344a-425e-a934-d345b215aef8"
      },
      "execution_count": null,
      "outputs": [
        {
          "output_type": "stream",
          "name": "stdout",
          "text": [
            "This is not a member of the dictionary\n"
          ]
        }
      ]
    },
    {
      "cell_type": "code",
      "source": [
        "s=\"V\"\n",
        "s1=\"\"\n",
        "if s==s1:\n",
        "  print(False)"
      ],
      "metadata": {
        "id": "B_jSYBznV7Um"
      },
      "execution_count": null,
      "outputs": []
    },
    {
      "cell_type": "code",
      "source": [
        "abc = {}\n",
        "abc[1] = 1\n",
        "abc['1'] = 2\n",
        "abc[1] = abc[1] + 1\n",
        "print(abc)"
      ],
      "metadata": {
        "colab": {
          "base_uri": "https://localhost:8080/"
        },
        "id": "1UBzdGIfJFOx",
        "outputId": "2c25f6cd-9cf2-4f6d-e91b-7d74377e6e3b"
      },
      "execution_count": null,
      "outputs": [
        {
          "output_type": "stream",
          "name": "stdout",
          "text": [
            "{1: 2, '1': 2}\n"
          ]
        }
      ]
    },
    {
      "cell_type": "code",
      "source": [
        "elements = (10, 20, 30, 40, 50, 60, 70, 80)\n",
        "print(elements[2:5], elements[:4], elements[3:100])"
      ],
      "metadata": {
        "colab": {
          "base_uri": "https://localhost:8080/"
        },
        "id": "l5MhgtJfaIL0",
        "outputId": "d14fe3b5-65fe-45a4-9c3c-c71069573690"
      },
      "execution_count": null,
      "outputs": [
        {
          "output_type": "stream",
          "name": "stdout",
          "text": [
            "(30, 40, 50) (10, 20, 30, 40) (40, 50, 60, 70, 80)\n"
          ]
        }
      ]
    },
    {
      "cell_type": "code",
      "source": [
        "name_lst = [\"Vijay\", \"Vickey\"]\n",
        "tup = (\"Item_1\", 0.5, name_lst)\n",
        "name_lst.append(\"Vishal\")\n",
        "print(tup)"
      ],
      "metadata": {
        "id": "NHynfQSzaTJS",
        "outputId": "d8091df2-3cfd-4d1f-d3ae-df61a032140a",
        "colab": {
          "base_uri": "https://localhost:8080/"
        }
      },
      "execution_count": null,
      "outputs": [
        {
          "output_type": "stream",
          "name": "stdout",
          "text": [
            "('Item_1', 0.5, ['Vijay', 'Vickey', 'Vishal'])\n"
          ]
        }
      ]
    },
    {
      "cell_type": "code",
      "source": [
        "import numpy as np\n",
        "arr = np.array([10, 20, 30, 40, 50])\n",
        "type(arr, dtype='float64')\n",
        "print(arr)"
      ],
      "metadata": {
        "id": "lsxiIsdx9vwm"
      },
      "execution_count": null,
      "outputs": []
    },
    {
      "cell_type": "code",
      "source": [
        "import numpy as np\n",
        "x = np.array([-5, 9 , 20 , 25, -3, 5, 16, 10,-8])\n",
        "x[(x >= -5) & (x <= 15)] *= -1\n",
        "print(x)"
      ],
      "metadata": {
        "colab": {
          "base_uri": "https://localhost:8080/"
        },
        "id": "1bOhyhPO-Ws8",
        "outputId": "01e0a024-1e05-4269-8dfb-37e90d869daf"
      },
      "execution_count": 7,
      "outputs": [
        {
          "output_type": "stream",
          "name": "stdout",
          "text": [
            "[  5  -9  20  25   3  -5  16 -10  -8]\n"
          ]
        }
      ]
    },
    {
      "cell_type": "code",
      "source": [
        "a = np.array([100, 200, 300, 400])\n",
        "\n",
        "b = np.array([300, 200, 100, 400])\n",
        "\n",
        "print(a == b)"
      ],
      "metadata": {
        "colab": {
          "base_uri": "https://localhost:8080/"
        },
        "id": "IrqrTxFI-pA2",
        "outputId": "d5d944e2-eaa2-4cb1-f3c5-18a24d3fca8c"
      },
      "execution_count": 8,
      "outputs": [
        {
          "output_type": "stream",
          "name": "stdout",
          "text": [
            "[False  True False  True]\n"
          ]
        }
      ]
    },
    {
      "cell_type": "code",
      "source": [
        "a=[1,2],(1,2)\n",
        "print(type(a))"
      ],
      "metadata": {
        "colab": {
          "base_uri": "https://localhost:8080/"
        },
        "id": "JMdAMkqWAE1m",
        "outputId": "75d351a0-9e79-4e0b-8949-31c95ecababb"
      },
      "execution_count": 9,
      "outputs": [
        {
          "output_type": "stream",
          "name": "stdout",
          "text": [
            "<class 'tuple'>\n"
          ]
        }
      ]
    },
    {
      "cell_type": "code",
      "source": [
        "import numpy as np\n",
        "a = np.arange(10)\n",
        "print(a[2:5])"
      ],
      "metadata": {
        "colab": {
          "base_uri": "https://localhost:8080/"
        },
        "id": "IzeC3ilj4sy8",
        "outputId": "ac21a0b2-5141-4eb3-be87-856b1cf4dcb0"
      },
      "execution_count": 1,
      "outputs": [
        {
          "output_type": "stream",
          "name": "stdout",
          "text": [
            "[2 3 4]\n"
          ]
        }
      ]
    },
    {
      "cell_type": "code",
      "source": [
        "import numpy as np\n",
        "arr = np.array([1, 2, 3, 4])\n",
        "print(arr[2] + arr[-2])"
      ],
      "metadata": {
        "colab": {
          "base_uri": "https://localhost:8080/"
        },
        "id": "IeGj_5wY457p",
        "outputId": "1626983e-5eb6-4958-a2e5-27685972d716"
      },
      "execution_count": 2,
      "outputs": [
        {
          "output_type": "stream",
          "name": "stdout",
          "text": [
            "6\n"
          ]
        }
      ]
    },
    {
      "cell_type": "code",
      "source": [
        "import numpy as np\n",
        "a = np.array([[16, 5], [81, 6], [33, 1]])\n",
        "x=np.transpose(a).reshape(2,3)\n",
        "print(x.flatten())"
      ],
      "metadata": {
        "colab": {
          "base_uri": "https://localhost:8080/"
        },
        "id": "_Gqm0XKi95RU",
        "outputId": "37066f6f-5ac0-4efb-a092-cc6412a69d41"
      },
      "execution_count": 1,
      "outputs": [
        {
          "output_type": "stream",
          "name": "stdout",
          "text": [
            "[16 81 33  5  6  1]\n"
          ]
        }
      ]
    },
    {
      "cell_type": "code",
      "source": [
        "import numpy as np\n",
        "x = np.array([[200,200,200],[300,300,300],[400,400,400]])\n",
        "v = np.array([200,300,400])\n",
        "print((x / v[:,None])[1][1])"
      ],
      "metadata": {
        "colab": {
          "base_uri": "https://localhost:8080/"
        },
        "id": "yiEKmRsb-VWf",
        "outputId": "805033e2-6292-40cc-ec4d-afef9808986e"
      },
      "execution_count": 2,
      "outputs": [
        {
          "output_type": "stream",
          "name": "stdout",
          "text": [
            "1.0\n"
          ]
        }
      ]
    },
    {
      "cell_type": "code",
      "source": [
        "import numpy as np\n",
        "p = np.array([[0], [10], [20]])\n",
        "q = np.array([10, 11, 12])\n",
        "print((p + q)[1][1])"
      ],
      "metadata": {
        "colab": {
          "base_uri": "https://localhost:8080/"
        },
        "id": "kFXWRkUe-ZJg",
        "outputId": "c5e05be0-2243-43e2-dfd3-0474652653ab"
      },
      "execution_count": 3,
      "outputs": [
        {
          "output_type": "stream",
          "name": "stdout",
          "text": [
            "21\n"
          ]
        }
      ]
    },
    {
      "cell_type": "code",
      "source": [
        "import numpy as np\n",
        "a = np.arange(10,22).reshape((3, 4))\n",
        "print(a)"
      ],
      "metadata": {
        "colab": {
          "base_uri": "https://localhost:8080/"
        },
        "id": "qC_gjguOIbyc",
        "outputId": "c5aa2b44-6303-431b-b01a-6c51eaa3065c"
      },
      "execution_count": 1,
      "outputs": [
        {
          "output_type": "stream",
          "name": "stdout",
          "text": [
            "[[10 11 12 13]\n",
            " [14 15 16 17]\n",
            " [18 19 20 21]]\n"
          ]
        }
      ]
    },
    {
      "cell_type": "code",
      "source": [
        "import numpy as np\n",
        "A = np.arange(9).reshape(3,3)\n",
        "print(A[:, ::-1])"
      ],
      "metadata": {
        "colab": {
          "base_uri": "https://localhost:8080/"
        },
        "id": "C8OaD5oAIy0V",
        "outputId": "bef064cb-3717-4d81-efb2-f7419231644d"
      },
      "execution_count": 2,
      "outputs": [
        {
          "output_type": "stream",
          "name": "stdout",
          "text": [
            "[[2 1 0]\n",
            " [5 4 3]\n",
            " [8 7 6]]\n"
          ]
        }
      ]
    },
    {
      "cell_type": "code",
      "source": [
        "x = np.ones((5,5))\n",
        "x[1:-1,1:-1] = 0"
      ],
      "metadata": {
        "id": "N-Ef0n2MJ3yn"
      },
      "execution_count": 3,
      "outputs": []
    }
  ]
}